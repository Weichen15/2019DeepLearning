{
 "cells": [
  {
   "cell_type": "markdown",
   "metadata": {},
   "source": [
    "### 讀取封包"
   ]
  },
  {
   "cell_type": "code",
   "execution_count": 144,
   "metadata": {},
   "outputs": [],
   "source": [
    "get_ipython().magic('matplotlib inline')\n",
    "\n",
    "\n",
    "import numpy as np\n",
    "import pandas as pd\n",
    "import matplotlib.pyplot as plt\n",
    "from keras.datasets import mnist\n",
    "from keras.utils import np_utils\n",
    "\n",
    "from sklearn import metrics\n",
    "from sklearn.metrics import classification_report\n",
    "import seaborn as sns\n",
    "\n",
    "\n",
    "\n",
    "np.random.seed(25)"
   ]
  },
  {
   "cell_type": "markdown",
   "metadata": {},
   "source": [
    "### 讀資料"
   ]
  },
  {
   "cell_type": "code",
   "execution_count": 148,
   "metadata": {
    "scrolled": true
   },
   "outputs": [],
   "source": [
    "x_train = pd.read_csv(\"/Users/jianweicheng/Desktop/ＮＴＵＴ/碩二上/深度學習/assignment/03_Assignment/x_train.csv\")\n",
    "x_train.head(10)\n",
    "x_test = pd.read_csv(\"/Users/jianweicheng/Desktop/ＮＴＵＴ/碩二上/深度學習/assignment/03_Assignment/x_test.csv\")\n",
    "# x_train"
   ]
  },
  {
   "cell_type": "code",
   "execution_count": 149,
   "metadata": {},
   "outputs": [],
   "source": [
    "y_train = pd.read_csv(\"/Users/jianweicheng/Desktop/ＮＴＵＴ/碩二上/深度學習/assignment/03_Assignment/y_train.csv\")\n",
    "y_test = pd.read_csv(\"/Users/jianweicheng/Desktop/ＮＴＵＴ/碩二上/深度學習/assignment/03_Assignment/y_test.csv\")"
   ]
  },
  {
   "cell_type": "markdown",
   "metadata": {},
   "source": [
    "### 資料做標準化"
   ]
  },
  {
   "cell_type": "code",
   "execution_count": 150,
   "metadata": {},
   "outputs": [],
   "source": [
    "def feature_normalize(dataset):\n",
    "    mu = np.mean(dataset, axis=0)\n",
    "    sigma = np.std(dataset, axis=0)\n",
    "    return (dataset - mu)/sigma"
   ]
  },
  {
   "cell_type": "code",
   "execution_count": 151,
   "metadata": {},
   "outputs": [],
   "source": [
    "x_train['x1'] = feature_normalize(x_train['x1'])\n",
    "x_train['x2'] = feature_normalize(x_train['x2'])\n",
    "x_test['x1'] = feature_normalize(x_test['x1'])\n",
    "x_test['x2'] = feature_normalize(x_test['x2'])"
   ]
  },
  {
   "cell_type": "markdown",
   "metadata": {},
   "source": [
    "### 開始維度的調整"
   ]
  },
  {
   "cell_type": "code",
   "execution_count": 152,
   "metadata": {},
   "outputs": [
    {
     "data": {
      "text/plain": [
       "array([[[-0.93694717, -0.34497048],\n",
       "        [ 1.04341265, -0.419277  ],\n",
       "        [ 0.23346774, -0.37714586],\n",
       "        ...,\n",
       "        [ 0.32840634, -0.37302807],\n",
       "        [ 0.33211487, -0.34509913],\n",
       "        [-1.21953785, -0.09413487]],\n",
       "\n",
       "       [[ 1.67831453,  0.53161283],\n",
       "        [ 1.22661448,  0.43095604],\n",
       "        [ 0.87949523,  0.38020684],\n",
       "        ...,\n",
       "        [ 0.84982692,  0.43689354],\n",
       "        [-0.66177358,  0.60765535],\n",
       "        [-1.0823219 ,  0.83886055]],\n",
       "\n",
       "       [[ 0.32098925,  0.63154193],\n",
       "        [ 1.35715505,  0.51218759],\n",
       "        [ 0.30689681,  0.54371941],\n",
       "        ...,\n",
       "        [ 0.09773521,  0.69830074],\n",
       "        [ 1.80440486,  0.51461193],\n",
       "        [-0.11810176,  0.60722689]],\n",
       "\n",
       "       ...,\n",
       "\n",
       "       [[-1.19919804,  2.91948352],\n",
       "        [-1.09037651,  2.89785874],\n",
       "        [-1.61141247,  3.00777254],\n",
       "        ...,\n",
       "        [-0.96809648,  3.05331444],\n",
       "        [-0.79198249,  2.95632655],\n",
       "        [ 2.52726651,  2.02095532]],\n",
       "\n",
       "       [[-0.5943349 , -1.59725152],\n",
       "        [-1.88096687, -1.41923624],\n",
       "        [-0.97347988, -1.47043337],\n",
       "        ...,\n",
       "        [-1.19958257, -1.34901385],\n",
       "        [-1.13728897, -1.35887043],\n",
       "        [ 0.67114801, -1.8254598 ]],\n",
       "\n",
       "       [[-1.41568752,  1.3053996 ],\n",
       "        [-1.19496823,  1.31019597],\n",
       "        [-0.53319489,  1.14779498],\n",
       "        ...,\n",
       "        [-0.90657194,  1.02171811],\n",
       "        [-0.67124057,  0.89416983],\n",
       "        [ 2.54841558, -0.04663085]]])"
      ]
     },
     "execution_count": 152,
     "metadata": {},
     "output_type": "execute_result"
    }
   ],
   "source": [
    "XT = np.array(x_train)\n",
    "XT\n",
    "X_train = XT.reshape([3500, 10, 2])\n",
    "XTE = np.array(x_test)\n",
    "XTE\n",
    "X_test = XTE.reshape([1500, 10, 2])\n",
    "X_train"
   ]
  },
  {
   "cell_type": "code",
   "execution_count": 153,
   "metadata": {},
   "outputs": [
    {
     "data": {
      "text/plain": [
       "(3500, 1)"
      ]
     },
     "execution_count": 153,
     "metadata": {},
     "output_type": "execute_result"
    }
   ],
   "source": [
    "y_train.shape"
   ]
  },
  {
   "cell_type": "code",
   "execution_count": 154,
   "metadata": {
    "scrolled": true
   },
   "outputs": [],
   "source": [
    "input_shape = (10*2)   ## 20*1 每一筆資料 10(時間) 2個變數(x1 x2) \n",
    "X_train = X_train.reshape(X_train.shape[0], input_shape)  ## 把10*2 矩陣  變成 20 array了!!  很重要!! 如何擺法!"
   ]
  },
  {
   "cell_type": "code",
   "execution_count": 155,
   "metadata": {},
   "outputs": [],
   "source": [
    "input_shape = (10*2)   ## 20*1 每一筆資料 10(時間) 2個變數(x1 x2) \n",
    "X_test = X_test.reshape(X_test.shape[0], input_shape)  ## 把10*2 矩陣  變成 20 array了!!  很重要!! 如何擺法!"
   ]
  },
  {
   "cell_type": "markdown",
   "metadata": {},
   "source": [
    "### 對y做onehot，總共有(0,1,2,3,4)五個字"
   ]
  },
  {
   "cell_type": "code",
   "execution_count": 11,
   "metadata": {},
   "outputs": [
    {
     "data": {
      "text/plain": [
       "(3500, 5)"
      ]
     },
     "execution_count": 11,
     "metadata": {},
     "output_type": "execute_result"
    }
   ],
   "source": [
    "y_train_onehot = np_utils.to_categorical(y_train, num_classes = 5)\n",
    "y_train_onehot\n",
    "y_test_onehot = np_utils.to_categorical(y_test, num_classes = 5)\n",
    "y_train_onehot.shape"
   ]
  },
  {
   "cell_type": "code",
   "execution_count": 12,
   "metadata": {
    "scrolled": false
   },
   "outputs": [
    {
     "name": "stdout",
     "output_type": "stream",
     "text": [
      "(3500, 20)\n",
      "(1500, 20)\n",
      "20\n"
     ]
    }
   ],
   "source": [
    "print(X_train.shape)\n",
    "print(X_test.shape)\n",
    "print(input_shape)"
   ]
  },
  {
   "cell_type": "markdown",
   "metadata": {},
   "source": [
    "### 開始準備CNN"
   ]
  },
  {
   "cell_type": "code",
   "execution_count": 156,
   "metadata": {},
   "outputs": [],
   "source": [
    "from keras.utils import *\n",
    "from keras.models import Sequential\n",
    "from keras.layers import Dense, Dropout, Flatten, Reshape, GlobalAveragePooling1D\n",
    "from keras.layers import Conv2D, MaxPooling2D, Conv1D, MaxPooling1D\n",
    "from keras.optimizers import Adam\n",
    "from keras.preprocessing.image import ImageDataGenerator\n",
    "import keras"
   ]
  },
  {
   "cell_type": "code",
   "execution_count": 157,
   "metadata": {
    "scrolled": false
   },
   "outputs": [
    {
     "name": "stdout",
     "output_type": "stream",
     "text": [
      "_________________________________________________________________\n",
      "Layer (type)                 Output Shape              Param #   \n",
      "=================================================================\n",
      "reshape_18 (Reshape)         (None, 10, 2)             0         \n",
      "_________________________________________________________________\n",
      "conv1d_50 (Conv1D)           (None, 9, 100)            500       \n",
      "_________________________________________________________________\n",
      "conv1d_51 (Conv1D)           (None, 8, 100)            20100     \n",
      "_________________________________________________________________\n",
      "max_pooling1d_21 (MaxPooling (None, 4, 100)            0         \n",
      "_________________________________________________________________\n",
      "conv1d_52 (Conv1D)           (None, 3, 160)            32160     \n",
      "_________________________________________________________________\n",
      "global_average_pooling1d_13  (None, 160)               0         \n",
      "_________________________________________________________________\n",
      "dropout_13 (Dropout)         (None, 160)               0         \n",
      "_________________________________________________________________\n",
      "dense_13 (Dense)             (None, 5)                 805       \n",
      "=================================================================\n",
      "Total params: 53,565\n",
      "Trainable params: 53,565\n",
      "Non-trainable params: 0\n",
      "_________________________________________________________________\n",
      "None\n"
     ]
    }
   ],
   "source": [
    "model_m = Sequential()\n",
    "model_m.add(Reshape((10, 2), input_shape=(input_shape,)))  ##將一個樣本的20個數值轉為 10x2 矩陣\n",
    "model_m.add(Conv1D(100, 2, activation='relu', input_shape=(10, 2)))\n",
    "model_m.add(Conv1D(100, 2, activation='relu'))\n",
    "model_m.add(MaxPooling1D(2))\n",
    "model_m.add(Conv1D(160, 2, activation='relu'))\n",
    "model_m.add(GlobalAveragePooling1D())\n",
    "model_m.add(Dropout(0.5))\n",
    "model_m.add(Dense(5, activation='softmax'))\n",
    "print(model_m.summary())"
   ]
  },
  {
   "cell_type": "code",
   "execution_count": 158,
   "metadata": {},
   "outputs": [],
   "source": [
    "def show_train_history(train_history, train, validation):\n",
    "    plt.plot(train_history.history[train])\n",
    "    plt.plot(train_history.history[validation])\n",
    "    plt.title(\"Train History\")\n",
    "    plt.ylabel(train)\n",
    "    plt.xlabel('Epoch')\n",
    "    plt.show()"
   ]
  },
  {
   "cell_type": "code",
   "execution_count": 159,
   "metadata": {
    "scrolled": true
   },
   "outputs": [
    {
     "name": "stdout",
     "output_type": "stream",
     "text": [
      "Train on 2870 samples, validate on 630 samples\n",
      "Epoch 1/30\n",
      "2870/2870 [==============================] - 3s 873us/step - loss: 1.3448 - acc: 0.4878 - val_loss: 3.3268 - val_acc: 0.0000e+00\n",
      "Epoch 2/30\n",
      "2870/2870 [==============================] - 0s 121us/step - loss: 0.8898 - acc: 0.6456 - val_loss: 3.9822 - val_acc: 0.0000e+00\n",
      "Epoch 3/30\n",
      "2870/2870 [==============================] - 0s 121us/step - loss: 0.7393 - acc: 0.6899 - val_loss: 2.2586 - val_acc: 0.0000e+00\n",
      "Epoch 4/30\n",
      "2870/2870 [==============================] - 0s 125us/step - loss: 0.6529 - acc: 0.7321 - val_loss: 2.0968 - val_acc: 0.0000e+00\n",
      "Epoch 5/30\n",
      "2870/2870 [==============================] - 0s 127us/step - loss: 0.6038 - acc: 0.7509 - val_loss: 2.3848 - val_acc: 0.0000e+00\n",
      "Epoch 6/30\n",
      "2870/2870 [==============================] - 0s 127us/step - loss: 0.5629 - acc: 0.7676 - val_loss: 1.3938 - val_acc: 0.0016\n",
      "Epoch 7/30\n",
      "2870/2870 [==============================] - 0s 121us/step - loss: 0.5389 - acc: 0.7669 - val_loss: 1.7634 - val_acc: 0.0016\n",
      "Epoch 8/30\n",
      "2870/2870 [==============================] - 0s 118us/step - loss: 0.5136 - acc: 0.7840 - val_loss: 0.9730 - val_acc: 0.4810\n",
      "Epoch 9/30\n",
      "2870/2870 [==============================] - 0s 119us/step - loss: 0.4822 - acc: 0.7892 - val_loss: 0.8358 - val_acc: 0.6095\n",
      "Epoch 10/30\n",
      "2870/2870 [==============================] - 0s 116us/step - loss: 0.4686 - acc: 0.7997 - val_loss: 0.7648 - val_acc: 0.6143\n",
      "Epoch 11/30\n",
      "2870/2870 [==============================] - 0s 117us/step - loss: 0.4435 - acc: 0.8070 - val_loss: 0.7366 - val_acc: 0.6222\n",
      "Epoch 12/30\n",
      "2870/2870 [==============================] - 0s 118us/step - loss: 0.4123 - acc: 0.8240 - val_loss: 0.6320 - val_acc: 0.6984\n",
      "Epoch 13/30\n",
      "2870/2870 [==============================] - 0s 118us/step - loss: 0.4010 - acc: 0.8321 - val_loss: 0.3899 - val_acc: 0.8381\n",
      "Epoch 14/30\n",
      "2870/2870 [==============================] - 0s 116us/step - loss: 0.3858 - acc: 0.8432 - val_loss: 0.5776 - val_acc: 0.7333\n",
      "Epoch 15/30\n",
      "2870/2870 [==============================] - 0s 119us/step - loss: 0.3521 - acc: 0.8599 - val_loss: 0.5062 - val_acc: 0.7746\n",
      "Epoch 16/30\n",
      "2870/2870 [==============================] - 0s 116us/step - loss: 0.3243 - acc: 0.8777 - val_loss: 0.5643 - val_acc: 0.7413\n",
      "Epoch 17/30\n",
      "2870/2870 [==============================] - 0s 118us/step - loss: 0.2958 - acc: 0.8965 - val_loss: 0.8086 - val_acc: 0.6365\n",
      "Epoch 18/30\n",
      "2870/2870 [==============================] - 0s 118us/step - loss: 0.2715 - acc: 0.9003 - val_loss: 0.4158 - val_acc: 0.8270\n",
      "Epoch 19/30\n",
      "2870/2870 [==============================] - 0s 121us/step - loss: 0.2264 - acc: 0.9261 - val_loss: 0.6952 - val_acc: 0.7079\n",
      "Epoch 20/30\n",
      "2870/2870 [==============================] - 0s 120us/step - loss: 0.2016 - acc: 0.9397 - val_loss: 1.0295 - val_acc: 0.5730\n",
      "Epoch 21/30\n",
      "2870/2870 [==============================] - 0s 123us/step - loss: 0.1724 - acc: 0.9592 - val_loss: 0.5463 - val_acc: 0.7508\n",
      "Epoch 22/30\n",
      "2870/2870 [==============================] - 0s 148us/step - loss: 0.1385 - acc: 0.9711 - val_loss: 0.6906 - val_acc: 0.7159\n",
      "Epoch 23/30\n",
      "2870/2870 [==============================] - 0s 147us/step - loss: 0.1158 - acc: 0.9742 - val_loss: 0.7205 - val_acc: 0.6921\n",
      "Epoch 24/30\n",
      "2870/2870 [==============================] - 0s 146us/step - loss: 0.1094 - acc: 0.9787 - val_loss: 0.3404 - val_acc: 0.8635\n",
      "Epoch 25/30\n",
      "2870/2870 [==============================] - 1s 212us/step - loss: 0.0903 - acc: 0.9815 - val_loss: 0.3046 - val_acc: 0.8810\n",
      "Epoch 26/30\n",
      "2870/2870 [==============================] - 0s 124us/step - loss: 0.0690 - acc: 0.9920 - val_loss: 0.2303 - val_acc: 0.9190\n",
      "Epoch 27/30\n",
      "2870/2870 [==============================] - 1s 184us/step - loss: 0.0544 - acc: 0.9948 - val_loss: 0.3370 - val_acc: 0.8683\n",
      "Epoch 28/30\n",
      "2870/2870 [==============================] - 0s 123us/step - loss: 0.0479 - acc: 0.9937 - val_loss: 0.2651 - val_acc: 0.8952\n",
      "Epoch 29/30\n",
      "2870/2870 [==============================] - 0s 121us/step - loss: 0.0439 - acc: 0.9951 - val_loss: 0.1669 - val_acc: 0.9365\n",
      "Epoch 30/30\n",
      "2870/2870 [==============================] - 0s 123us/step - loss: 0.0393 - acc: 0.9937 - val_loss: 0.1496 - val_acc: 0.9540\n"
     ]
    }
   ],
   "source": [
    "model_m.compile(loss='categorical_crossentropy',\n",
    "                optimizer='adam', metrics=['accuracy'])\n",
    "\n",
    "# Hyper-parameters\n",
    "BATCH_SIZE = 200\n",
    "EPOCHS = 30\n",
    "\n",
    "# Enable validation to use ModelCheckpoint and EarlyStopping callbacks.\n",
    "history = model_m.fit(X_train, y_train_onehot, batch_size=BATCH_SIZE, epochs=EPOCHS, validation_split=0.18, verbose=1)\n"
   ]
  },
  {
   "cell_type": "markdown",
   "metadata": {},
   "source": [
    "(BATCH_SIZE = 200),(EPOCHS = 30),(validation_split=0.18)"
   ]
  },
  {
   "cell_type": "code",
   "execution_count": 160,
   "metadata": {},
   "outputs": [
    {
     "data": {
      "image/png": "[encoded data removed]",
      "text/plain": [
       "<Figure size 432x288 with 1 Axes>"
      ]
     },
     "metadata": {
      "needs_background": "light"
     },
     "output_type": "display_data"
    },
    {
     "data": {
      "image/png": "[encoded data removed]",
      "text/plain": [
       "<Figure size 432x288 with 1 Axes>"
      ]
     },
     "metadata": {
      "needs_background": "light"
     },
     "output_type": "display_data"
    }
   ],
   "source": [
    "show_train_history(history, 'acc', 'val_acc')\n",
    "\n",
    "show_train_history(history, 'loss', 'val_loss')\n"
   ]
  },
  {
   "cell_type": "code",
   "execution_count": 161,
   "metadata": {
    "scrolled": true
   },
   "outputs": [
    {
     "name": "stdout",
     "output_type": "stream",
     "text": [
      "\n",
      "--- Learning curve of model training ---\n",
      "\n"
     ]
    },
    {
     "data": {
      "image/png": "[encoded data removed]",
      "text/plain": [
       "<Figure size 432x288 with 1 Axes>"
      ]
     },
     "metadata": {
      "needs_background": "light"
     },
     "output_type": "display_data"
    }
   ],
   "source": [
    "print(\"\\n--- Learning curve of model training ---\\n\")\n",
    "\n",
    "# summarize history for accuracy and loss\n",
    "plt.figure(figsize=(6, 4))\n",
    "plt.plot(history.history['acc'], \"g--\", label=\"Accuracy of training data\")\n",
    "plt.plot(history.history['val_acc'], \"g\", label=\"Accuracy of validation data\")\n",
    "plt.plot(history.history['loss'], \"r--\", label=\"Loss of training data\")\n",
    "plt.plot(history.history['val_loss'], \"r\", label=\"Loss of validation data\")\n",
    "plt.title('Model Accuracy and Loss')\n",
    "plt.ylabel('Accuracy and Loss')\n",
    "plt.xlabel('Training Epoch')\n",
    "plt.ylim(0)\n",
    "plt.legend()\n",
    "plt.show()\n"
   ]
  },
  {
   "cell_type": "markdown",
   "metadata": {},
   "source": [
    "### 把test資料丟進來看準確度"
   ]
  },
  {
   "cell_type": "code",
   "execution_count": 162,
   "metadata": {
    "scrolled": false
   },
   "outputs": [
    {
     "name": "stdout",
     "output_type": "stream",
     "text": [
      "1500/1500 [==============================] - 0s 115us/step\n",
      "\n",
      "Accuracy on test data: 0.99\n",
      "\n",
      "Loss on test data: 0.05\n"
     ]
    }
   ],
   "source": [
    "score = model_m.evaluate(X_test, y_test_onehot, verbose=1)\n",
    "print(\"\\nAccuracy on test data: %0.2f\" % score[1])\n",
    "print(\"\\nLoss on test data: %0.2f\" % score[0])"
   ]
  },
  {
   "cell_type": "markdown",
   "metadata": {},
   "source": [
    "### 從混沌矩陣來看結果"
   ]
  },
  {
   "cell_type": "code",
   "execution_count": 165,
   "metadata": {},
   "outputs": [],
   "source": [
    "def show_confusion_matrix(validations, predictions):\n",
    "    matrix = metrics.confusion_matrix(validations, predictions)\n",
    "    plt.figure(figsize=(6, 4))\n",
    "    sns.heatmap(matrix, cmap=\"coolwarm\",linecolor='white', linewidths=1, xticklabels=LABELS, yticklabels=LABELS, annot=True, fmt=\"d\")\n",
    "    plt.title(\"Confusion Matrix\")\n",
    "    plt.ylabel(\"True Label\")\n",
    "    plt.xlabel(\"Predicted Label\")\n",
    "    plt.show()\n"
   ]
  },
  {
   "cell_type": "code",
   "execution_count": 166,
   "metadata": {},
   "outputs": [
    {
     "name": "stdout",
     "output_type": "stream",
     "text": [
      "\n",
      "--- Confusion matrix for test data ---\n",
      "\n"
     ]
    },
    {
     "data": {
      "image/png": "[encoded data removed]",
      "text/plain": [
       "<Figure size 432x288 with 2 Axes>"
      ]
     },
     "metadata": {
      "needs_background": "light"
     },
     "output_type": "display_data"
    },
    {
     "name": "stdout",
     "output_type": "stream",
     "text": [
      "\n",
      "--- Classification report for test data ---\n",
      "\n",
      "              precision    recall  f1-score   support\n",
      "\n",
      "           0       1.00      1.00      1.00       300\n",
      "           1       1.00      1.00      1.00       300\n",
      "           2       0.94      1.00      0.97       300\n",
      "           3       1.00      1.00      1.00       300\n",
      "           4       1.00      0.94      0.97       300\n",
      "\n",
      "    accuracy                           0.99      1500\n",
      "   macro avg       0.99      0.99      0.99      1500\n",
      "weighted avg       0.99      0.99      0.99      1500\n",
      "\n"
     ]
    }
   ],
   "source": [
    "print(\"\\n--- Confusion matrix for test data ---\\n\")\n",
    "\n",
    "y_pred_test = model_m.predict(X_test)\n",
    "# Take the class with the highest probability from the test predictions\n",
    "max_y_pred_test = np.argmax(y_pred_test, axis=1)\n",
    "max_y_test = np.argmax(y_test_onehot, axis=1)\n",
    "\n",
    "show_confusion_matrix(max_y_test, max_y_pred_test)\n",
    "\n",
    "# %%\n",
    "\n",
    "print(\"\\n--- Classification report for test data ---\\n\")\n",
    "\n",
    "print(classification_report(max_y_test, max_y_pred_test))\n"
   ]
  },
  {
   "cell_type": "code",
   "execution_count": null,
   "metadata": {},
   "outputs": [],
   "source": []
  }
 ],
 "metadata": {
  "kernelspec": {
   "display_name": "Python 3",
   "language": "python",
   "name": "python3"
  },
  "language_info": {
   "codemirror_mode": {
    "name": "ipython",
    "version": 3
   },
   "file_extension": ".py",
   "mimetype": "text/x-python",
   "name": "python",
   "nbconvert_exporter": "python",
   "pygments_lexer": "ipython3",
   "version": "3.6.8"
  }
 },
 "nbformat": 4,
 "nbformat_minor": 2
}
