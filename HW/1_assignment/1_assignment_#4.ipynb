{
 "cells": [
  {
   "cell_type": "code",
   "execution_count": 9,
   "metadata": {},
   "outputs": [],
   "source": [
    "import string\n",
    "import re"
   ]
  },
  {
   "cell_type": "code",
   "execution_count": 10,
   "metadata": {},
   "outputs": [
    {
     "name": "stdout",
     "output_type": "stream",
     "text": [
      "請輸入密碼，且須包含(a~z)、(A~Z)、(0~10)及(#, $, @)各自至少一個。輸入完後按兩字Enter確認\n",
      "SDffse234#$,dage,adfASD23$%,fdag234352,dfa\n",
      "\n"
     ]
    }
   ],
   "source": [
    "print(\"請輸入密碼，且須包含(a~z)、(A~Z)、(0~10)及(#, $, @)各自至少一個。輸入完後按兩字Enter確認\")\n",
    "a = []\n",
    "while True:\n",
    "\n",
    "    s1 = input()\n",
    "    if s1:\n",
    "        a = s1\n",
    "    else:\n",
    "        \n",
    "        break\n"
   ]
  },
  {
   "cell_type": "code",
   "execution_count": 11,
   "metadata": {
    "scrolled": true
   },
   "outputs": [
    {
     "data": {
      "text/plain": [
       "['SDffse234#$', 'dage', 'adfASD23$%', 'fdag234352', 'dfa']"
      ]
     },
     "execution_count": 11,
     "metadata": {},
     "output_type": "execute_result"
    }
   ],
   "source": [
    "a = a.split(\",\")\n",
    "a"
   ]
  },
  {
   "cell_type": "code",
   "execution_count": 12,
   "metadata": {},
   "outputs": [],
   "source": [
    "# b = list(string.ascii_lowercase)\n",
    "# c = list(string.ascii_uppercase)\n",
    "# d = list(range(0,10))\n",
    "# e = '#', '$', '@'"
   ]
  },
  {
   "cell_type": "code",
   "execution_count": 13,
   "metadata": {},
   "outputs": [],
   "source": [
    "def check_strong(input_string):\n",
    "    flag = False\n",
    "    r1 = re.search('[a-z]+', input_string)\n",
    "    r2 = re.search('[A-Z]+', input_string)\n",
    "    r3 = re.search(\"[0-9]+\", input_string)\n",
    "    r4 = re.search('[@, #, $]+', input_string)\n",
    "    if r1 and r2 and r3 and r4:\n",
    "        flag = True \n",
    "        return flag"
   ]
  },
  {
   "cell_type": "code",
   "execution_count": 14,
   "metadata": {},
   "outputs": [],
   "source": [
    "# def check_strong(input_string):\n",
    "#     flag = False\n",
    "#     r1 = re.search(b, input_string)\n",
    "#     r2 = re.search(c, input_string)\n",
    "#     r3 = re.search(d, input_string)\n",
    "#     r4 = re.search(e, input_string)\n",
    "#     if r1 and r2 and r3 and r4:\n",
    "#         flag = True \n",
    "#         return flag"
   ]
  },
  {
   "cell_type": "code",
   "execution_count": 15,
   "metadata": {},
   "outputs": [
    {
     "name": "stdout",
     "output_type": "stream",
     "text": [
      "SDffse234#$\n",
      "adfASD23$%\n",
      "False\n",
      "符合資格的密碼為： ['SDffse234#$', 'adfASD23$%']\n"
     ]
    }
   ],
   "source": [
    "psw = []\n",
    "for i in range(len(a)):\n",
    "    if len(a[i]) >= 6 and len(a[i]) <= 12:\n",
    "        if check_strong(a[i]):\n",
    "            print(a[i])\n",
    "            psw.append(a[i])\n",
    "        else:\n",
    "            print('False')\n",
    "        \n",
    "print(\"符合資格的密碼為：\", psw)"
   ]
  },
  {
   "cell_type": "code",
   "execution_count": 28,
   "metadata": {},
   "outputs": [
    {
     "name": "stdout",
     "output_type": "stream",
     "text": [
      "密碼校驗通過\n"
     ]
    }
   ],
   "source": [
    "\n",
    "# for i in range(len(a)):\n",
    "#     if len(a[i]) >= 6 or len(a[i]) <= 12:\n",
    "#         numlower = 0\n",
    "#         numisupper = 0\n",
    "#         numdigit = 0\n",
    "#         for p in a[i]:\n",
    "#             if p.islower():\n",
    "#                 numlower+=1\n",
    "#             elif p.isupper():\n",
    "#                 numisupper+=1\n",
    "#             elif p.isdigit():\n",
    "#                 numdigit+=1\n",
    "#         if numlower > 0 and numdigit > 0 and numisupper > 0:\n",
    "#             print('密碼校驗通過')\n",
    "#             break\n",
    "#         else:\n",
    "#             print('密碼不符合要求')"
   ]
  },
  {
   "cell_type": "code",
   "execution_count": 43,
   "metadata": {},
   "outputs": [],
   "source": []
  },
  {
   "cell_type": "code",
   "execution_count": null,
   "metadata": {},
   "outputs": [],
   "source": []
  }
 ],
 "metadata": {
  "kernelspec": {
   "display_name": "Python 3",
   "language": "python",
   "name": "python3"
  },
  "language_info": {
   "codemirror_mode": {
    "name": "ipython",
    "version": 3
   },
   "file_extension": ".py",
   "mimetype": "text/x-python",
   "name": "python",
   "nbconvert_exporter": "python",
   "pygments_lexer": "ipython3",
   "version": "3.6.8"
  }
 },
 "nbformat": 4,
 "nbformat_minor": 2
}
