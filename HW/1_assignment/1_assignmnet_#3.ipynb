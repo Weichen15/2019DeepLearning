{
 "cells": [
  {
   "cell_type": "code",
   "execution_count": 24,
   "metadata": {},
   "outputs": [
    {
     "name": "stdout",
     "output_type": "stream",
     "text": [
      "請輸入存\\提款金額，存款以「D」表示，提款以「W」表示：（格式為：D 100或W 300）\n",
      "d 200\n",
      "d 150\n",
      "w 200\n",
      "d 300\n",
      "\n"
     ]
    }
   ],
   "source": [
    "lines=[]\n",
    "print(\"請輸入存\\提款金額，存款以「D」表示，提款以「W」表示：（格式為：D 100或W 300）\")\n",
    "while True:\n",
    "    a = input()\n",
    "    if (a == ''):\n",
    "        break\n",
    "    else:\n",
    "        lines.append(a)"
   ]
  },
  {
   "cell_type": "code",
   "execution_count": 32,
   "metadata": {},
   "outputs": [
    {
     "data": {
      "text/plain": [
       "['d 200', 'd 150', 'w 200', 'd 300']"
      ]
     },
     "execution_count": 32,
     "metadata": {},
     "output_type": "execute_result"
    }
   ],
   "source": [
    "lines"
   ]
  },
  {
   "cell_type": "code",
   "execution_count": 33,
   "metadata": {},
   "outputs": [
    {
     "name": "stdout",
     "output_type": "stream",
     "text": [
      "收支結果為： 0\n"
     ]
    }
   ],
   "source": [
    "b = 0\n",
    "for i in range(len(lines)):\n",
    "    a = lines[i].split(' ')\n",
    "    for j in range(len(a)):\n",
    "        if a[j] == 'D':\n",
    "            b = b + int(a[j+1])\n",
    "        elif a[j] == 'W':\n",
    "            b = b - int(a[j+1])\n",
    "        else:\n",
    "            continue\n",
    "print(\"收支結果為：\", b)"
   ]
  },
  {
   "cell_type": "code",
   "execution_count": 11,
   "metadata": {},
   "outputs": [
    {
     "data": {
      "text/plain": [
       "-200"
      ]
     },
     "execution_count": 11,
     "metadata": {},
     "output_type": "execute_result"
    }
   ],
   "source": []
  },
  {
   "cell_type": "code",
   "execution_count": null,
   "metadata": {},
   "outputs": [],
   "source": []
  }
 ],
 "metadata": {
  "kernelspec": {
   "display_name": "Python 3",
   "language": "python",
   "name": "python3"
  },
  "language_info": {
   "codemirror_mode": {
    "name": "ipython",
    "version": 3
   },
   "file_extension": ".py",
   "mimetype": "text/x-python",
   "name": "python",
   "nbconvert_exporter": "python",
   "pygments_lexer": "ipython3",
   "version": "3.6.8"
  }
 },
 "nbformat": 4,
 "nbformat_minor": 2
}
