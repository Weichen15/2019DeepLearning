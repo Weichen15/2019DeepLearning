{
 "cells": [
  {
   "cell_type": "code",
   "execution_count": 5,
   "metadata": {},
   "outputs": [
    {
     "name": "stdout",
     "output_type": "stream",
     "text": [
      "請輸入小寫英文字，按一次Enter換列，按兩次結束輸入：\n",
      "dfadfa\n",
      "dfafda\n",
      "\n"
     ]
    }
   ],
   "source": [
    "lines=[]\n",
    "print(\"請輸入小寫英文字，按一次Enter換列，按兩次結束輸入：\")\n",
    "while True:\n",
    "    a = input()\n",
    "    if (a == ''):\n",
    "        break\n",
    "    else:\n",
    "        lines.append(a)"
   ]
  },
  {
   "cell_type": "code",
   "execution_count": 2,
   "metadata": {},
   "outputs": [
    {
     "data": {
      "text/plain": [
       "['daffdafda', 'dafffaaf']"
      ]
     },
     "execution_count": 2,
     "metadata": {},
     "output_type": "execute_result"
    }
   ],
   "source": [
    "lines"
   ]
  },
  {
   "cell_type": "code",
   "execution_count": 3,
   "metadata": {},
   "outputs": [
    {
     "name": "stdout",
     "output_type": "stream",
     "text": [
      "DAFFDAFDA\n",
      "DAFFFAAF\n"
     ]
    }
   ],
   "source": [
    "for i in range(len(lines)):\n",
    "    LINES = lines[i].upper()\n",
    "    print(LINES)"
   ]
  },
  {
   "cell_type": "code",
   "execution_count": 8,
   "metadata": {},
   "outputs": [
    {
     "name": "stdout",
     "output_type": "stream",
     "text": [
      "請輸入小寫英文字，按一次Enter換列，按兩次結束輸入：\n",
      "adfafr\n",
      "gttrht\n",
      "\n",
      "ADFAFR\n",
      "GTTRHT\n"
     ]
    }
   ],
   "source": [
    "lines=[]\n",
    "print(\"請輸入小寫英文字，按一次Enter換列，按兩次結束輸入：\")\n",
    "while True:\n",
    "    a = input()\n",
    "    if a:\n",
    "        lines.append(a)\n",
    "    else:\n",
    "        for i in range(len(lines)):\n",
    "            LINES = lines[i].upper()\n",
    "            print(LINES)\n",
    "            \n",
    "        break"
   ]
  },
  {
   "cell_type": "code",
   "execution_count": null,
   "metadata": {},
   "outputs": [],
   "source": []
  }
 ],
 "metadata": {
  "kernelspec": {
   "display_name": "Python 3",
   "language": "python",
   "name": "python3"
  },
  "language_info": {
   "codemirror_mode": {
    "name": "ipython",
    "version": 3
   },
   "file_extension": ".py",
   "mimetype": "text/x-python",
   "name": "python",
   "nbconvert_exporter": "python",
   "pygments_lexer": "ipython3",
   "version": "3.6.8"
  }
 },
 "nbformat": 4,
 "nbformat_minor": 2
}
