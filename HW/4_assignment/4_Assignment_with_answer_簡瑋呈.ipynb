{
 "cells": [
  {
   "cell_type": "markdown",
   "metadata": {},
   "source": [
    "### 讀取封包"
   ]
  },
  {
   "cell_type": "code",
   "execution_count": 1,
   "metadata": {},
   "outputs": [
    {
     "name": "stderr",
     "output_type": "stream",
     "text": [
      "Using TensorFlow backend.\n"
     ]
    }
   ],
   "source": [
    "get_ipython().magic('matplotlib inline')\n",
    "\n",
    "\n",
    "import numpy as np\n",
    "import pandas as pd\n",
    "import matplotlib.pyplot as plt\n",
    "from keras.datasets import mnist\n",
    "from keras.utils import np_utils\n",
    "\n",
    "from sklearn import metrics\n",
    "from sklearn.metrics import classification_report\n",
    "import seaborn as sns\n",
    "\n",
    "\n",
    "\n",
    "np.random.seed(25)"
   ]
  },
  {
   "cell_type": "markdown",
   "metadata": {},
   "source": [
    "### 讀資料"
   ]
  },
  {
   "cell_type": "code",
   "execution_count": 2,
   "metadata": {
    "scrolled": true
   },
   "outputs": [],
   "source": [
    "x_train = pd.read_csv(\"/Users/jianweicheng/Desktop/ＮＴＵＴ/碩二上/深度學習/assignment/03_Assignment/x_train.csv\")\n",
    "x_train.head(10)\n",
    "x_test = pd.read_csv(\"/Users/jianweicheng/Desktop/ＮＴＵＴ/碩二上/深度學習/assignment/03_Assignment/x_test.csv\")\n",
    "# x_train"
   ]
  },
  {
   "cell_type": "code",
   "execution_count": 3,
   "metadata": {},
   "outputs": [],
   "source": [
    "y_train = pd.read_csv(\"/Users/jianweicheng/Desktop/ＮＴＵＴ/碩二上/深度學習/assignment/03_Assignment/y_train.csv\")\n",
    "y_test = pd.read_csv(\"/Users/jianweicheng/Desktop/ＮＴＵＴ/碩二上/深度學習/assignment/03_Assignment/y_test.csv\")"
   ]
  },
  {
   "cell_type": "markdown",
   "metadata": {},
   "source": [
    "### 資料做標準化"
   ]
  },
  {
   "cell_type": "code",
   "execution_count": 4,
   "metadata": {},
   "outputs": [],
   "source": [
    "def feature_normalize(dataset):\n",
    "    mu = np.mean(dataset, axis=0)\n",
    "    sigma = np.std(dataset, axis=0)\n",
    "    return (dataset - mu)/sigma"
   ]
  },
  {
   "cell_type": "code",
   "execution_count": 5,
   "metadata": {},
   "outputs": [],
   "source": [
    "x_train['x1'] = feature_normalize(x_train['x1'])\n",
    "x_train['x2'] = feature_normalize(x_train['x2'])\n",
    "x_test['x1'] = feature_normalize(x_test['x1'])\n",
    "x_test['x2'] = feature_normalize(x_test['x2'])"
   ]
  },
  {
   "cell_type": "markdown",
   "metadata": {},
   "source": [
    "### 開始維度的調整"
   ]
  },
  {
   "cell_type": "code",
   "execution_count": 6,
   "metadata": {},
   "outputs": [
    {
     "data": {
      "text/plain": [
       "array([[[-0.93694717, -0.34497048],\n",
       "        [ 1.04341265, -0.419277  ],\n",
       "        [ 0.23346774, -0.37714586],\n",
       "        ...,\n",
       "        [ 0.32840634, -0.37302807],\n",
       "        [ 0.33211487, -0.34509913],\n",
       "        [-1.21953785, -0.09413487]],\n",
       "\n",
       "       [[ 1.67831453,  0.53161283],\n",
       "        [ 1.22661448,  0.43095604],\n",
       "        [ 0.87949523,  0.38020684],\n",
       "        ...,\n",
       "        [ 0.84982692,  0.43689354],\n",
       "        [-0.66177358,  0.60765535],\n",
       "        [-1.0823219 ,  0.83886055]],\n",
       "\n",
       "       [[ 0.32098925,  0.63154193],\n",
       "        [ 1.35715505,  0.51218759],\n",
       "        [ 0.30689681,  0.54371941],\n",
       "        ...,\n",
       "        [ 0.09773521,  0.69830074],\n",
       "        [ 1.80440486,  0.51461193],\n",
       "        [-0.11810176,  0.60722689]],\n",
       "\n",
       "       ...,\n",
       "\n",
       "       [[-1.19919804,  2.91948352],\n",
       "        [-1.09037651,  2.89785874],\n",
       "        [-1.61141247,  3.00777254],\n",
       "        ...,\n",
       "        [-0.96809648,  3.05331444],\n",
       "        [-0.79198249,  2.95632655],\n",
       "        [ 2.52726651,  2.02095532]],\n",
       "\n",
       "       [[-0.5943349 , -1.59725152],\n",
       "        [-1.88096687, -1.41923624],\n",
       "        [-0.97347988, -1.47043337],\n",
       "        ...,\n",
       "        [-1.19958257, -1.34901385],\n",
       "        [-1.13728897, -1.35887043],\n",
       "        [ 0.67114801, -1.8254598 ]],\n",
       "\n",
       "       [[-1.41568752,  1.3053996 ],\n",
       "        [-1.19496823,  1.31019597],\n",
       "        [-0.53319489,  1.14779498],\n",
       "        ...,\n",
       "        [-0.90657194,  1.02171811],\n",
       "        [-0.67124057,  0.89416983],\n",
       "        [ 2.54841558, -0.04663085]]])"
      ]
     },
     "execution_count": 6,
     "metadata": {},
     "output_type": "execute_result"
    }
   ],
   "source": [
    "XT = np.array(x_train)\n",
    "XT\n",
    "X_train = XT.reshape([3500, 10, 2])\n",
    "XTE = np.array(x_test)\n",
    "XTE\n",
    "X_test = XTE.reshape([1500, 10, 2])\n",
    "X_train"
   ]
  },
  {
   "cell_type": "code",
   "execution_count": 7,
   "metadata": {},
   "outputs": [
    {
     "data": {
      "text/plain": [
       "(3500, 1)"
      ]
     },
     "execution_count": 7,
     "metadata": {},
     "output_type": "execute_result"
    }
   ],
   "source": [
    "y_train.shape"
   ]
  },
  {
   "cell_type": "code",
   "execution_count": 8,
   "metadata": {
    "scrolled": true
   },
   "outputs": [],
   "source": [
    "# input_shape = (10*2)   ## 20*1 每一筆資料 10(時間) 2個變數(x1 x2) \n",
    "# X_train = X_train.reshape(X_train.shape[0], input_shape)  ## 把10*2 矩陣  變成 20 array了!!  很重要!! 如何擺法!"
   ]
  },
  {
   "cell_type": "code",
   "execution_count": 9,
   "metadata": {},
   "outputs": [],
   "source": [
    "# input_shape = (10*2)   ## 20*1 每一筆資料 10(時間) 2個變數(x1 x2) \n",
    "# X_test = X_test.reshape(X_test.shape[0], input_shape)  ## 把10*2 矩陣  變成 20 array了!!  很重要!! 如何擺法!"
   ]
  },
  {
   "cell_type": "markdown",
   "metadata": {},
   "source": [
    "### 對y做onehot，總共有(0,1,2,3,4)五個字"
   ]
  },
  {
   "cell_type": "code",
   "execution_count": 10,
   "metadata": {},
   "outputs": [],
   "source": [
    "LABELS = ['0', '1', '2', '3', '4']"
   ]
  },
  {
   "cell_type": "code",
   "execution_count": 11,
   "metadata": {},
   "outputs": [
    {
     "data": {
      "text/plain": [
       "(3500, 5)"
      ]
     },
     "execution_count": 11,
     "metadata": {},
     "output_type": "execute_result"
    }
   ],
   "source": [
    "y_train_onehot = np_utils.to_categorical(y_train, num_classes = 5)\n",
    "y_train_onehot\n",
    "y_test_onehot = np_utils.to_categorical(y_test, num_classes = 5)\n",
    "y_train_onehot.shape"
   ]
  },
  {
   "cell_type": "code",
   "execution_count": 23,
   "metadata": {
    "scrolled": false
   },
   "outputs": [
    {
     "name": "stdout",
     "output_type": "stream",
     "text": [
      "(3500, 10, 2)\n",
      "(1500, 10, 2)\n"
     ]
    }
   ],
   "source": [
    "print(X_train.shape)\n",
    "print(X_test.shape)"
   ]
  },
  {
   "cell_type": "markdown",
   "metadata": {},
   "source": [
    "### 開始準備CNN"
   ]
  },
  {
   "cell_type": "code",
   "execution_count": 14,
   "metadata": {},
   "outputs": [],
   "source": [
    "from keras.models import Sequential\n",
    "from keras.layers import Dense, Dropout, Activation, Flatten, LSTM, TimeDistributed, RepeatVector\n",
    "from keras.layers import SimpleRNN, Activation, Dense, RNN\n",
    "from keras.layers.normalization import BatchNormalization\n",
    "from keras.optimizers import Adam\n",
    "from keras.callbacks import EarlyStopping, ModelCheckpoint\n",
    "import matplotlib.pyplot as plt\n",
    "%matplotlib inline\n"
   ]
  },
  {
   "cell_type": "code",
   "execution_count": 15,
   "metadata": {},
   "outputs": [
    {
     "name": "stdout",
     "output_type": "stream",
     "text": [
      "_________________________________________________________________\n",
      "Layer (type)                 Output Shape              Param #   \n",
      "=================================================================\n",
      "simple_rnn_1 (SimpleRNN)     (None, 128)               16768     \n",
      "_________________________________________________________________\n",
      "dropout_1 (Dropout)          (None, 128)               0         \n",
      "_________________________________________________________________\n",
      "dense_1 (Dense)              (None, 64)                8256      \n",
      "_________________________________________________________________\n",
      "dropout_2 (Dropout)          (None, 64)                0         \n",
      "_________________________________________________________________\n",
      "dense_2 (Dense)              (None, 16)                1040      \n",
      "_________________________________________________________________\n",
      "dropout_3 (Dropout)          (None, 16)                0         \n",
      "_________________________________________________________________\n",
      "dense_3 (Dense)              (None, 5)                 85        \n",
      "=================================================================\n",
      "Total params: 26,149\n",
      "Trainable params: 26,149\n",
      "Non-trainable params: 0\n",
      "_________________________________________________________________\n"
     ]
    }
   ],
   "source": [
    "model = Sequential()\n",
    "##  SimpleRNN  注意他的 input 格式!!\n",
    "model.add(SimpleRNN(units=128, input_shape=(X_train.shape[1], X_train.shape[2])))\n",
    "## input_shape(shape[1]→12,shape[2]→1)\n",
    "## 如果錯了，就不能跑了！！！\n",
    "\n",
    "#model.add(SimpleRNN(128, input_shape = (1, 12), activation = 'relu'))\n",
    "\n",
    "model.add(Dropout(0.1))\n",
    "model.add(Dense(64, activation = 'relu'))\n",
    "model.add(Dropout(0.1))\n",
    "model.add(Dense(16, activation = 'relu'))\n",
    "model.add(Dropout(0.1))\n",
    "model.add(Dense(5, activation='softmax'))\n",
    "model.compile(loss='categorical_crossentropy',\n",
    "                optimizer='adam', metrics=['accuracy'])\n",
    "model.summary()\n"
   ]
  },
  {
   "cell_type": "code",
   "execution_count": 16,
   "metadata": {},
   "outputs": [],
   "source": [
    "def show_train_history(train_history, train, validation):\n",
    "    plt.plot(train_history.history[train])\n",
    "    plt.plot(train_history.history[validation])\n",
    "    plt.title(\"Train History\")\n",
    "    plt.ylabel(train)\n",
    "    plt.xlabel('Epoch')\n",
    "    plt.show()"
   ]
  },
  {
   "cell_type": "code",
   "execution_count": 17,
   "metadata": {
    "scrolled": true
   },
   "outputs": [
    {
     "name": "stdout",
     "output_type": "stream",
     "text": [
      "Train on 2870 samples, validate on 630 samples\n",
      "Epoch 1/30\n",
      "2870/2870 [==============================] - 1s 279us/step - loss: 1.2581 - acc: 0.4627 - val_loss: 2.6131 - val_acc: 0.0000e+00\n",
      "Epoch 2/30\n",
      "2870/2870 [==============================] - 0s 108us/step - loss: 0.8674 - acc: 0.6373 - val_loss: 3.0129 - val_acc: 0.0000e+00\n",
      "Epoch 3/30\n",
      "2870/2870 [==============================] - 0s 98us/step - loss: 0.6860 - acc: 0.7261 - val_loss: 3.0063 - val_acc: 0.0000e+00\n",
      "Epoch 4/30\n",
      "2870/2870 [==============================] - 0s 99us/step - loss: 0.5324 - acc: 0.7955 - val_loss: 2.7993 - val_acc: 0.0000e+00\n",
      "Epoch 5/30\n",
      "2870/2870 [==============================] - 0s 102us/step - loss: 0.4710 - acc: 0.8296 - val_loss: 2.5827 - val_acc: 0.0000e+00\n",
      "Epoch 6/30\n",
      "2870/2870 [==============================] - 0s 103us/step - loss: 0.4440 - acc: 0.8324 - val_loss: 2.2845 - val_acc: 0.0000e+00\n",
      "Epoch 7/30\n",
      "2870/2870 [==============================] - 0s 104us/step - loss: 0.4178 - acc: 0.8443 - val_loss: 2.2084 - val_acc: 0.0000e+00\n",
      "Epoch 8/30\n",
      "2870/2870 [==============================] - 0s 99us/step - loss: 0.3908 - acc: 0.8571 - val_loss: 2.1064 - val_acc: 0.0000e+00\n",
      "Epoch 9/30\n",
      "2870/2870 [==============================] - 0s 102us/step - loss: 0.3536 - acc: 0.8679 - val_loss: 1.8616 - val_acc: 0.0000e+00\n",
      "Epoch 10/30\n",
      "2870/2870 [==============================] - 0s 101us/step - loss: 0.3214 - acc: 0.8850 - val_loss: 1.8824 - val_acc: 0.0000e+00\n",
      "Epoch 11/30\n",
      "2870/2870 [==============================] - 0s 97us/step - loss: 0.2744 - acc: 0.8983 - val_loss: 1.8584 - val_acc: 0.0000e+00\n",
      "Epoch 12/30\n",
      "2870/2870 [==============================] - 0s 111us/step - loss: 0.2806 - acc: 0.8972 - val_loss: 1.5140 - val_acc: 0.0000e+00\n",
      "Epoch 13/30\n",
      "2870/2870 [==============================] - 0s 117us/step - loss: 0.2494 - acc: 0.9059 - val_loss: 1.4804 - val_acc: 0.0016\n",
      "Epoch 14/30\n",
      "2870/2870 [==============================] - 0s 97us/step - loss: 0.2051 - acc: 0.9286 - val_loss: 1.6940 - val_acc: 0.0159\n",
      "Epoch 15/30\n",
      "2870/2870 [==============================] - 0s 105us/step - loss: 0.1890 - acc: 0.9296 - val_loss: 0.9603 - val_acc: 0.4429\n",
      "Epoch 16/30\n",
      "2870/2870 [==============================] - 0s 121us/step - loss: 0.1522 - acc: 0.9488 - val_loss: 1.3755 - val_acc: 0.2238\n",
      "Epoch 17/30\n",
      "2870/2870 [==============================] - 0s 139us/step - loss: 0.1110 - acc: 0.9672 - val_loss: 0.7536 - val_acc: 0.6619\n",
      "Epoch 18/30\n",
      "2870/2870 [==============================] - 0s 145us/step - loss: 0.0977 - acc: 0.9770 - val_loss: 0.9099 - val_acc: 0.6286\n",
      "Epoch 19/30\n",
      "2870/2870 [==============================] - 0s 116us/step - loss: 0.3130 - acc: 0.8923 - val_loss: 0.3586 - val_acc: 0.8587\n",
      "Epoch 20/30\n",
      "2870/2870 [==============================] - 0s 149us/step - loss: 0.1884 - acc: 0.9286 - val_loss: 0.2841 - val_acc: 0.9206\n",
      "Epoch 21/30\n",
      "2870/2870 [==============================] - 0s 111us/step - loss: 0.1291 - acc: 0.9571 - val_loss: 0.3863 - val_acc: 0.8079\n",
      "Epoch 22/30\n",
      "2870/2870 [==============================] - 0s 149us/step - loss: 0.1206 - acc: 0.9592 - val_loss: 0.9481 - val_acc: 0.5603\n",
      "Epoch 23/30\n",
      "2870/2870 [==============================] - 0s 109us/step - loss: 0.0814 - acc: 0.9746 - val_loss: 0.8656 - val_acc: 0.5683\n",
      "Epoch 24/30\n",
      "2870/2870 [==============================] - 0s 111us/step - loss: 0.0816 - acc: 0.9725 - val_loss: 0.4320 - val_acc: 0.8270\n",
      "Epoch 25/30\n",
      "2870/2870 [==============================] - 0s 94us/step - loss: 0.0653 - acc: 0.9777 - val_loss: 0.2030 - val_acc: 0.9508\n",
      "Epoch 26/30\n",
      "2870/2870 [==============================] - 0s 105us/step - loss: 0.0768 - acc: 0.9753 - val_loss: 0.5219 - val_acc: 0.7921\n",
      "Epoch 27/30\n",
      "2870/2870 [==============================] - 0s 97us/step - loss: 0.0537 - acc: 0.9868 - val_loss: 0.3925 - val_acc: 0.8460\n",
      "Epoch 28/30\n",
      "2870/2870 [==============================] - 0s 96us/step - loss: 0.0538 - acc: 0.9819 - val_loss: 0.1276 - val_acc: 0.9508\n",
      "Epoch 29/30\n",
      "2870/2870 [==============================] - 0s 99us/step - loss: 0.1073 - acc: 0.9645 - val_loss: 0.2461 - val_acc: 0.9079\n",
      "Epoch 30/30\n",
      "2870/2870 [==============================] - 0s 101us/step - loss: 0.0564 - acc: 0.9829 - val_loss: 0.5292 - val_acc: 0.7571\n"
     ]
    }
   ],
   "source": [
    "model.compile(loss='categorical_crossentropy',\n",
    "                optimizer='adam', metrics=['accuracy'])\n",
    "\n",
    "# Hyper-parameters\n",
    "BATCH_SIZE = 200\n",
    "EPOCHS = 30\n",
    "\n",
    "# Enable validation to use ModelCheckpoint and EarlyStopping callbacks.\n",
    "history = model.fit(X_train, y_train_onehot, batch_size=BATCH_SIZE, epochs=EPOCHS, validation_split=0.18, verbose=1)\n"
   ]
  },
  {
   "cell_type": "markdown",
   "metadata": {},
   "source": [
    "(BATCH_SIZE = 200),(EPOCHS = 30),(validation_split=0.18)"
   ]
  },
  {
   "cell_type": "code",
   "execution_count": 18,
   "metadata": {},
   "outputs": [
    {
     "data": {
      "image/png": "[encoded data removed]",
      "text/plain": [
       "<Figure size 432x288 with 1 Axes>"
      ]
     },
     "metadata": {
      "needs_background": "light"
     },
     "output_type": "display_data"
    },
    {
     "data": {
      "image/png": "[encoded data removed]",
      "text/plain": [
       "<Figure size 432x288 with 1 Axes>"
      ]
     },
     "metadata": {
      "needs_background": "light"
     },
     "output_type": "display_data"
    }
   ],
   "source": [
    "show_train_history(history, 'acc', 'val_acc')\n",
    "\n",
    "show_train_history(history, 'loss', 'val_loss')\n"
   ]
  },
  {
   "cell_type": "code",
   "execution_count": 19,
   "metadata": {
    "scrolled": true
   },
   "outputs": [
    {
     "name": "stdout",
     "output_type": "stream",
     "text": [
      "\n",
      "--- Learning curve of model training ---\n",
      "\n"
     ]
    },
    {
     "data": {
      "image/png": "[encoded data removed]",
      "text/plain": [
       "<Figure size 432x288 with 1 Axes>"
      ]
     },
     "metadata": {
      "needs_background": "light"
     },
     "output_type": "display_data"
    }
   ],
   "source": [
    "print(\"\\n--- Learning curve of model training ---\\n\")\n",
    "\n",
    "# summarize history for accuracy and loss\n",
    "plt.figure(figsize=(6, 4))\n",
    "plt.plot(history.history['acc'], \"g--\", label=\"Accuracy of training data\")\n",
    "plt.plot(history.history['val_acc'], \"g\", label=\"Accuracy of validation data\")\n",
    "plt.plot(history.history['loss'], \"r--\", label=\"Loss of training data\")\n",
    "plt.plot(history.history['val_loss'], \"r\", label=\"Loss of validation data\")\n",
    "plt.title('Model Accuracy and Loss')\n",
    "plt.ylabel('Accuracy and Loss')\n",
    "plt.xlabel('Training Epoch')\n",
    "plt.ylim(0)\n",
    "plt.legend()\n",
    "plt.show()\n"
   ]
  },
  {
   "cell_type": "markdown",
   "metadata": {},
   "source": [
    "### 把test資料丟進來看準確度"
   ]
  },
  {
   "cell_type": "code",
   "execution_count": 20,
   "metadata": {
    "scrolled": false
   },
   "outputs": [
    {
     "name": "stdout",
     "output_type": "stream",
     "text": [
      "1500/1500 [==============================] - 0s 102us/step\n",
      "\n",
      "Accuracy on test data: 0.94\n",
      "\n",
      "Loss on test data: 0.13\n"
     ]
    }
   ],
   "source": [
    "score = model.evaluate(X_test, y_test_onehot, verbose=1)\n",
    "print(\"\\nAccuracy on test data: %0.2f\" % score[1])\n",
    "print(\"\\nLoss on test data: %0.2f\" % score[0])"
   ]
  },
  {
   "cell_type": "markdown",
   "metadata": {},
   "source": [
    "### 從混沌矩陣來看結果"
   ]
  },
  {
   "cell_type": "code",
   "execution_count": 21,
   "metadata": {},
   "outputs": [],
   "source": [
    "def show_confusion_matrix(validations, predictions):\n",
    "    matrix = metrics.confusion_matrix(validations, predictions)\n",
    "    plt.figure(figsize=(6, 4))\n",
    "    sns.heatmap(matrix, cmap=\"coolwarm\",linecolor='white', linewidths=1, xticklabels=LABELS, yticklabels=LABELS, annot=True, fmt=\"d\")\n",
    "    plt.title(\"Confusion Matrix\")\n",
    "    plt.ylabel(\"True Label\")\n",
    "    plt.xlabel(\"Predicted Label\")\n",
    "    plt.show()\n"
   ]
  },
  {
   "cell_type": "code",
   "execution_count": 22,
   "metadata": {},
   "outputs": [
    {
     "name": "stdout",
     "output_type": "stream",
     "text": [
      "\n",
      "--- Confusion matrix for test data ---\n",
      "\n"
     ]
    },
    {
     "data": {
      "image/png": "[encoded data removed]",
      "text/plain": [
       "<Figure size 432x288 with 2 Axes>"
      ]
     },
     "metadata": {
      "needs_background": "light"
     },
     "output_type": "display_data"
    },
    {
     "name": "stdout",
     "output_type": "stream",
     "text": [
      "\n",
      "--- Classification report for test data ---\n",
      "\n",
      "              precision    recall  f1-score   support\n",
      "\n",
      "           0       1.00      0.98      0.99       300\n",
      "           1       1.00      1.00      1.00       300\n",
      "           2       0.79      1.00      0.88       300\n",
      "           3       0.98      1.00      0.99       300\n",
      "           4       1.00      0.74      0.85       300\n",
      "\n",
      "    accuracy                           0.94      1500\n",
      "   macro avg       0.95      0.94      0.94      1500\n",
      "weighted avg       0.95      0.94      0.94      1500\n",
      "\n"
     ]
    }
   ],
   "source": [
    "print(\"\\n--- Confusion matrix for test data ---\\n\")\n",
    "\n",
    "y_pred_test = model.predict(X_test)\n",
    "# Take the class with the highest probability from the test predictions\n",
    "max_y_pred_test = np.argmax(y_pred_test, axis=1)\n",
    "max_y_test = np.argmax(y_test_onehot, axis=1)\n",
    "\n",
    "show_confusion_matrix(max_y_test, max_y_pred_test)\n",
    "\n",
    "# %%\n",
    "\n",
    "print(\"\\n--- Classification report for test data ---\\n\")\n",
    "\n",
    "print(classification_report(max_y_test, max_y_pred_test))\n"
   ]
  },
  {
   "cell_type": "code",
   "execution_count": null,
   "metadata": {},
   "outputs": [],
   "source": []
  },
  {
   "cell_type": "code",
   "execution_count": null,
   "metadata": {},
   "outputs": [],
   "source": []
  }
 ],
 "metadata": {
  "kernelspec": {
   "display_name": "Python 3",
   "language": "python",
   "name": "python3"
  },
  "language_info": {
   "codemirror_mode": {
    "name": "ipython",
    "version": 3
   },
   "file_extension": ".py",
   "mimetype": "text/x-python",
   "name": "python",
   "nbconvert_exporter": "python",
   "pygments_lexer": "ipython3",
   "version": "3.6.8"
  }
 },
 "nbformat": 4,
 "nbformat_minor": 2
}
